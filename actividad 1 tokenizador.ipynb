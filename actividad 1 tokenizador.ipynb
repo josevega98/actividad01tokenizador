{
 "cells": [
  {
   "cell_type": "code",
   "execution_count": 1,
   "metadata": {},
   "outputs": [],
   "source": [
    "from tensorflow.keras.preprocessing.text import Tokenizer"
   ]
  },
  {
   "cell_type": "code",
   "execution_count": 4,
   "metadata": {},
   "outputs": [
    {
     "name": "stdout",
     "output_type": "stream",
     "text": [
      "{'el': 1, 'a': 2, 'y': 3, 'planeta': 4, 'triatron': 5, 'fue': 6, 'creado': 7, 'nosotros': 8, 'viajamos': 9, 'arequipa': 10, 'seis': 11, 'de': 12, 'junio': 13, 'luego': 14, 'fuimos': 15, 'almorzar': 16, 'ceviche': 17, 'las': 18, 'galaxias': 19, 'suelen': 20, 'ser': 21, 'infinitas': 22, 'los': 23, 'soldados': 24, 'pasaron': 25, 'por': 26, 'arco': 27, 'del': 28, 'triunfo': 29}\n"
     ]
    }
   ],
   "source": [
    "sentences = [\n",
    "    'El planeta triatron fue creado,',\n",
    "    'nosotros viajamos a arequipa el seis de junio',\n",
    "    'y luego fuimos a almorzar ceviche,',\n",
    "    'las galaxias suelen ser infinitas.',\n",
    "    'y los soldados pasaron por el arco del triunfo.'\n",
    "]\n",
    "tokenizer = Tokenizer(num_words = 1000)\n",
    "tokenizer.fit_on_texts(sentences)\n",
    "word_index = tokenizer.word_index\n",
    "print (word_index)"
   ]
  },
  {
   "cell_type": "code",
   "execution_count": 5,
   "metadata": {},
   "outputs": [
    {
     "name": "stdout",
     "output_type": "stream",
     "text": [
      "{'que': 1, 'algo': 2, 'todo': 3, 'hallaron': 4, 'impresionante': 5, 'eran': 6, 'museos': 7, 'tenian': 8, 'mucha': 9, 'magia': 10, 'e': 11, 'historia': 12, 'años': 13, 'pasados': 14, 'nos': 15, 'trajeron': 16, 'nuestros': 17, 'antepasados': 18, 'el': 19, 'pueblo': 20, 'de': 21, 'esa': 22, 'ciudad': 23, 'estaba': 24, 'feliz': 25, 'puesto': 26, 'la': 27, 'mitologia': 28, 'era': 29, 'amaban': 30, 'en': 31, 'ese': 32, 'pais': 33}\n",
      "[[], [], [], [1, 12], []]\n"
     ]
    }
   ],
   "source": [
    "sentences2 = [\n",
    "    'Hallaron algo impresionante,',\n",
    "    'eran museos que tenian mucha magia e historia',\n",
    "    'que años pasados nos trajeron nuestros antepasados,',\n",
    "    'todo el pueblo de esa ciudad estaba feliz.',\n",
    "    'Puesto que la mitologia era algo que amaban en todo ese pais.'\n",
    "]\n",
    "tokenizer2 = Tokenizer(num_words = 1000)\n",
    "tokenizer2.fit_on_texts(sentences2)\n",
    "word_index2 = tokenizer2.word_index\n",
    "sequences = tokenizer.texts_to_sequences(sentences2)\n",
    "print (word_index2)\n",
    "print (sequences)"
   ]
  },
  {
   "cell_type": "code",
   "execution_count": null,
   "metadata": {},
   "outputs": [],
   "source": []
  }
 ],
 "metadata": {
  "kernelspec": {
   "display_name": "Python 3",
   "language": "python",
   "name": "python3"
  },
  "language_info": {
   "codemirror_mode": {
    "name": "ipython",
    "version": 3
   },
   "file_extension": ".py",
   "mimetype": "text/x-python",
   "name": "python",
   "nbconvert_exporter": "python",
   "pygments_lexer": "ipython3",
   "version": "3.7.3"
  }
 },
 "nbformat": 4,
 "nbformat_minor": 2
}
